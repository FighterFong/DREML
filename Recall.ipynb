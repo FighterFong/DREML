{
 "cells": [
  {
   "cell_type": "code",
   "execution_count": 2,
   "metadata": {},
   "outputs": [],
   "source": [
    "import torch,random\n",
    "import matplotlib\n",
    "% matplotlib inline\n",
    "import matplotlib.pyplot as plt\n",
    "\n",
    "def acc(src,L_used,L):\n",
    "    # src: result directory\n",
    "    # L_used: how many ensemble results are randomly picked\n",
    "    # L : total ensembled size\n",
    "    \n",
    "    # loading dataset info\n",
    "    dsets = torch.load(src + 'dsets.pth')\n",
    "    N = len(dsets['val'])\n",
    "    imgCat = dsets['val'].classDict\n",
    "\n",
    "    idx = [i for i in range(L)]\n",
    "    random.shuffle(idx)\n",
    "    idx = idx[:L_used]\n",
    "    \n",
    "    # loading feature vectors\n",
    "    R = [torch.load(src+str(d)+'valFvecs.pth') for d in idx]\n",
    "    R = torch.stack(R,2)\n",
    "    print(R.size())\n",
    "    \n",
    "    # calculating the similarity matrix\n",
    "    with torch.cuda.device(2):\n",
    "        R = R.permute(0,2,1).contiguous().view(R.size(0),-1).cuda()\n",
    "\n",
    "        D = R.mm(R.t())\n",
    "        D[torch.eye(N).byte()]=-1\n",
    "\n",
    "        A,B = D.sort(1,descending=True)\n",
    "    \n",
    "    # calculating the recall accuracy\n",
    "    T1,T2 = 0,0\n",
    "    for i in range(N):\n",
    "        score,idx = A[i,:],B[i,:]\n",
    "\n",
    "        if imgCat[idx[0].item()]==imgCat[i]: \n",
    "            T1+=1\n",
    "\n",
    "        for j in range(2):\n",
    "            if imgCat[idx[j]]==imgCat[i]: \n",
    "                T2+=1\n",
    "                break\n",
    "\n",
    "    print('R@1:{:.4f} R@2:{:.4f}'.format(T1/N,T2/N),end='\\r')\n",
    "    return T1/N,T2/N"
   ]
  }
 ],
 "metadata": {
  "kernelspec": {
   "display_name": "Python 3",
   "language": "python",
   "name": "python3"
  },
  "language_info": {
   "codemirror_mode": {
    "name": "ipython",
    "version": 3
   },
   "file_extension": ".py",
   "mimetype": "text/x-python",
   "name": "python",
   "nbconvert_exporter": "python",
   "pygments_lexer": "ipython3",
   "version": "3.6.5"
  }
 },
 "nbformat": 4,
 "nbformat_minor": 2
}
